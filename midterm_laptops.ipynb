{
 "cells": [
  {
   "metadata": {},
   "cell_type": "markdown",
   "source": [
    "# Laptop Price Prediction - Midterm Project\n",
    "\n"
   ],
   "id": "4e144ee1f3a104a7"
  },
  {
   "metadata": {},
   "cell_type": "markdown",
   "source": [
    "## I. Introduction\n",
    "\n",
    "In this project, we aim to predict the price of laptops and netbooks listed on eBay based on various features such as brand, processor type, RAM size, storage capacity, and more. Using a dataset extracted from eBay's website, we will apply supervised machine learning techniques, including regression models and tree-based algorithms, to predict the price of a laptop. The goal is to develop a model that can assist sellers in setting competitive prices and buyers in evaluating fair prices for products."
   ],
   "id": "9ddeb81fe6ac4709"
  },
  {
   "metadata": {},
   "cell_type": "markdown",
   "source": [
    "\n",
    "## II. Data Preparation\n"
   ],
   "id": "efe0fb0e1da24397"
  },
  {
   "metadata": {},
   "cell_type": "code",
   "source": [
    "## Importing libraries\n",
    "import pandas as pd\n",
    "import numpy as np\n",
    "from autoviz import AutoViz_Class\n",
    "\n",
    "data_path = 'data/ebay_laptops_dataset.csv'\n",
    "df = pd.read_csv(data_path)\n",
    "df.head()"
   ],
   "id": "f36043e583e05e33",
   "outputs": [],
   "execution_count": null
  },
  {
   "metadata": {},
   "cell_type": "markdown",
   "source": [
    "## Dataset Information\n",
    "\n",
    "We'll check some elementary information about the dataset, including its shape, columns, data types, summary statistics\n",
    "and null value counts.\n"
   ],
   "id": "23c1abc1d3f96a26"
  },
  {
   "metadata": {},
   "cell_type": "markdown",
   "source": "### Columns",
   "id": "e446696834bdce6d"
  },
  {
   "metadata": {},
   "cell_type": "code",
   "source": "df.info()",
   "id": "45dd65c02ab47dd5",
   "outputs": [],
   "execution_count": null
  },
  {
   "metadata": {},
   "cell_type": "markdown",
   "source": "### Summary Statistics",
   "id": "9a1dacb4b6705f54"
  },
  {
   "metadata": {},
   "cell_type": "code",
   "source": "df.describe()",
   "id": "54a2d06b67f51592",
   "outputs": [],
   "execution_count": null
  },
  {
   "metadata": {},
   "cell_type": "markdown",
   "source": "## Missing Values",
   "id": "b75071494197d66a"
  },
  {
   "metadata": {},
   "cell_type": "code",
   "source": "df.isnull().sum()",
   "id": "bded9c94260fd44b",
   "outputs": [],
   "execution_count": null
  },
  {
   "metadata": {},
   "cell_type": "markdown",
   "source": "## Column Renaming",
   "id": "19d102627f3cc870"
  },
  {
   "metadata": {},
   "cell_type": "code",
   "source": [
    "# Renaming the dataframe columns\n",
    "df.columns = df.columns.str.lower() \\\n",
    "    .str.replace(r'[\\(\\)]', '', regex=True) \\\n",
    "    .str.replace(' ', '_')\n",
    "\n",
    "# Renaming a couple of columns\n",
    "df = df.rename(columns={\n",
    "    'width_of_the_display': 'display_width',\n",
    "    'height_of_the_display': 'display_height',\n",
    "})\n",
    "\n",
    "# Defining the feature variables and the target variable\n",
    "features = [x for x in df.columns.tolist() if x != 'price']\n",
    "target = 'price'"
   ],
   "id": "20a178de6bba4f1d",
   "outputs": [],
   "execution_count": null
  },
  {
   "metadata": {},
   "cell_type": "code",
   "source": "df.columns",
   "id": "e0943ced92d13047",
   "outputs": [],
   "execution_count": null
  },
  {
   "metadata": {},
   "cell_type": "markdown",
   "source": "## Exploratory Data Analysis",
   "id": "71b97e1fd420b313"
  },
  {
   "metadata": {},
   "cell_type": "code",
   "source": [
    "AV = AutoViz_Class()\n",
    "\n",
    "filename = ''\n",
    "target = 'price'\n",
    "plot_directory = './assets/charts/'\n",
    "\n",
    "try:\n",
    "    dft = AV.AutoViz(\n",
    "        filename,\n",
    "        sep=\",\",\n",
    "        depVar=target,\n",
    "        dfte=df,\n",
    "        header=0,\n",
    "        verbose=1,\n",
    "        lowess=False,\n",
    "        chart_format=\"html\",\n",
    "        max_rows_analyzed=min([df.shape[0], 10**4]),\n",
    "        max_cols_analyzed=min([df.shape[1], 50]),\n",
    "        save_plot_dir=plot_directory\n",
    "    )\n",
    "except Exception as e:\n",
    "    print(f\"Exception: {e}\")\n"
   ],
   "id": "5d4ce9dd54e72fb5",
   "outputs": [],
   "execution_count": null
  },
  {
   "metadata": {},
   "cell_type": "code",
   "source": [
    "from IPython.core.display import display, HTML\n",
    "from pathlib import Path\n",
    "\n",
    "plot_file_names = []\n",
    "\n",
    "for file in Path(f'./{plot_directory}/{target}/').glob('*.html'):\n",
    "\n",
    "    # Extract filename from the full path\n",
    "    filename = str(file).split('/')[-1]\n",
    "    plot_file_names.append(filename)\n",
    "\n",
    "# Iterate through the list of file names and display each HTML file\n",
    "for plot in plot_file_names:\n",
    "    file_path = f'./{plot_directory}/{target}/{plot}'\n",
    "\n",
    "    with open(file_path, 'r') as file:\n",
    "        # Read HTML file\n",
    "        html_content = file.read()\n",
    "        # Display HTML with iPython\n",
    "        display(HTML(html_content))"
   ],
   "id": "7f6aab98c76af51a",
   "outputs": [],
   "execution_count": null
  }
 ],
 "metadata": {
  "kernelspec": {
   "display_name": "midterm-compat",
   "language": "python",
   "name": "midterm-compat"
  },
  "language_info": {
   "codemirror_mode": {
    "name": "ipython",
    "version": 2
   },
   "file_extension": ".py",
   "mimetype": "text/x-python",
   "name": "python",
   "nbconvert_exporter": "python",
   "pygments_lexer": "ipython2",
   "version": "2.7.6"
  }
 },
 "nbformat": 4,
 "nbformat_minor": 5
}
